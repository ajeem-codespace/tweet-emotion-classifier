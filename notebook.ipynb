{
 "cells": [
  {
   "cell_type": "markdown",
   "id": "9204535e-8e5e-4de5-a261-bda8b85b6b03",
   "metadata": {},
   "source": [
    "### Importing Necessary Libraries"
   ]
  },
  {
   "cell_type": "code",
   "execution_count": 39,
   "id": "5bb21b39-b16e-4579-ab7b-c2b75594bb2d",
   "metadata": {},
   "outputs": [],
   "source": [
    "import pandas as pd\n",
    "import matplotlib.pyplot as plt\n",
    "import seaborn as sns\n",
    "import re\n",
    "import nltk\n",
    "from nltk.corpus import stopwords\n",
    "from nltk.tokenize import word_tokenize\n",
    "from nltk.stem import WordNetLemmatizer\n",
    "from sklearn.model_selection import train_test_split\n",
    "from sklearn.feature_extraction.text import TfidfVectorizer \n",
    "from sklearn.linear_model import LogisticRegression\n",
    "from sklearn.metrics import accuracy_score, classification_report, confusion_matrix\n",
    "from sklearn.svm import SVC\n",
    "from sklearn.model_selection import GridSearchCV\n",
    "import joblib"
   ]
  },
  {
   "cell_type": "markdown",
   "id": "54808947-0290-4b25-870e-156c8f0c5b99",
   "metadata": {},
   "source": [
    "### Data Loading and Basic EDA"
   ]
  },
  {
   "cell_type": "code",
   "execution_count": 2,
   "id": "6ef1405a-1c6e-4b04-8ab8-8025aefc5273",
   "metadata": {},
   "outputs": [],
   "source": [
    "df = pd.read_csv('data/emotions.csv')"
   ]
  },
  {
   "cell_type": "code",
   "execution_count": 3,
   "id": "cbe459aa-4582-48fa-9842-bffb4e270f3b",
   "metadata": {},
   "outputs": [
    {
     "data": {
      "text/html": [
       "<div>\n",
       "<style scoped>\n",
       "    .dataframe tbody tr th:only-of-type {\n",
       "        vertical-align: middle;\n",
       "    }\n",
       "\n",
       "    .dataframe tbody tr th {\n",
       "        vertical-align: top;\n",
       "    }\n",
       "\n",
       "    .dataframe thead th {\n",
       "        text-align: right;\n",
       "    }\n",
       "</style>\n",
       "<table border=\"1\" class=\"dataframe\">\n",
       "  <thead>\n",
       "    <tr style=\"text-align: right;\">\n",
       "      <th></th>\n",
       "      <th>text</th>\n",
       "      <th>label</th>\n",
       "    </tr>\n",
       "  </thead>\n",
       "  <tbody>\n",
       "    <tr>\n",
       "      <th>0</th>\n",
       "      <td>i just feel really helpless and heavy hearted</td>\n",
       "      <td>4</td>\n",
       "    </tr>\n",
       "    <tr>\n",
       "      <th>1</th>\n",
       "      <td>ive enjoyed being able to slouch about relax a...</td>\n",
       "      <td>0</td>\n",
       "    </tr>\n",
       "    <tr>\n",
       "      <th>2</th>\n",
       "      <td>i gave up my internship with the dmrg and am f...</td>\n",
       "      <td>4</td>\n",
       "    </tr>\n",
       "    <tr>\n",
       "      <th>3</th>\n",
       "      <td>i dont know i feel so lost</td>\n",
       "      <td>0</td>\n",
       "    </tr>\n",
       "    <tr>\n",
       "      <th>4</th>\n",
       "      <td>i am a kindergarten teacher and i am thoroughl...</td>\n",
       "      <td>4</td>\n",
       "    </tr>\n",
       "  </tbody>\n",
       "</table>\n",
       "</div>"
      ],
      "text/plain": [
       "                                                text  label\n",
       "0      i just feel really helpless and heavy hearted      4\n",
       "1  ive enjoyed being able to slouch about relax a...      0\n",
       "2  i gave up my internship with the dmrg and am f...      4\n",
       "3                         i dont know i feel so lost      0\n",
       "4  i am a kindergarten teacher and i am thoroughl...      4"
      ]
     },
     "metadata": {},
     "output_type": "display_data"
    }
   ],
   "source": [
    "display(df.head())"
   ]
  },
  {
   "cell_type": "code",
   "execution_count": 4,
   "id": "a235f78f-6ca5-458f-9f53-3c22c91af2d5",
   "metadata": {},
   "outputs": [
    {
     "name": "stdout",
     "output_type": "stream",
     "text": [
      "<class 'pandas.core.frame.DataFrame'>\n",
      "RangeIndex: 416809 entries, 0 to 416808\n",
      "Data columns (total 2 columns):\n",
      " #   Column  Non-Null Count   Dtype \n",
      "---  ------  --------------   ----- \n",
      " 0   text    416809 non-null  object\n",
      " 1   label   416809 non-null  int64 \n",
      "dtypes: int64(1), object(1)\n",
      "memory usage: 6.4+ MB\n"
     ]
    }
   ],
   "source": [
    "df.info()"
   ]
  },
  {
   "cell_type": "code",
   "execution_count": 5,
   "id": "f5e18e29-d659-4841-991c-f2ee11aaa8ae",
   "metadata": {},
   "outputs": [
    {
     "name": "stdout",
     "output_type": "stream",
     "text": [
      "text     0\n",
      "label    0\n",
      "dtype: int64\n"
     ]
    }
   ],
   "source": [
    "print(df.isnull().sum())"
   ]
  },
  {
   "cell_type": "code",
   "execution_count": 6,
   "id": "868c9fe9-3e96-42d9-b726-569d0088cd6e",
   "metadata": {},
   "outputs": [
    {
     "name": "stdout",
     "output_type": "stream",
     "text": [
      "label\n",
      "0    121187\n",
      "1    141067\n",
      "2     34554\n",
      "3     57317\n",
      "4     47712\n",
      "5     14972\n",
      "Name: count, dtype: int64\n"
     ]
    }
   ],
   "source": [
    "label_counts = df['label'].value_counts().sort_index()\n",
    "print(label_counts)"
   ]
  },
  {
   "cell_type": "code",
   "execution_count": 7,
   "id": "fe6c87c5-6831-4352-8d70-2c437a61813d",
   "metadata": {},
   "outputs": [
    {
     "data": {
      "image/png": "[encoded data removed]",
      "text/plain": [
       "<Figure size 600x300 with 1 Axes>"
      ]
     },
     "metadata": {},
     "output_type": "display_data"
    }
   ],
   "source": [
    "plt.figure(figsize=(6, 3))\n",
    "sns.countplot(x='label', data=df, order=label_counts.index) \n",
    "plt.title('Distribution of Emotion Labels')\n",
    "plt.xlabel('Emotion Label')\n",
    "plt.ylabel('Frequency')\n",
    "plt.show()"
   ]
  },
  {
   "cell_type": "markdown",
   "id": "1f5878e0-e0ab-4c61-a2ba-61c5705651a0",
   "metadata": {},
   "source": [
    "There is imbalance in the dataset. This may affect model and make it biased. Since the test set should have the natural imbalanced dataset, This imbalance can be dealt with later during train test split "
   ]
  },
  {
   "cell_type": "markdown",
   "id": "d3da2246-316e-42c2-84a1-5c4e8092f2a8",
   "metadata": {},
   "source": [
    "#### Inspecting Sample Texts from each label "
   ]
  },
  {
   "cell_type": "code",
   "execution_count": 8,
   "id": "944cb4d3-ce61-45ca-a6ae-848c79da4458",
   "metadata": {},
   "outputs": [
    {
     "name": "stdout",
     "output_type": "stream",
     "text": [
      "1. ive learned to surround myself with women who lift me up and leave me feeling nurtured rather than drained\n",
      "2. i already feel crappy because of this and you being upset at me or the situation doesnt help\n",
      "3. i feel like i have lost mourned and moved past the tears in this relationship\n"
     ]
    }
   ],
   "source": [
    "sample_texts_label_0 = df[df['label'] == 0]['text'].sample(3, random_state=42)\n",
    "for i, text in enumerate(sample_texts_label_0):\n",
    "        print(f\"{i+1}. {text}\")"
   ]
  },
  {
   "cell_type": "code",
   "execution_count": 9,
   "id": "b7be416e-0edc-4c0f-b8cd-84b675b31838",
   "metadata": {},
   "outputs": [
    {
     "name": "stdout",
     "output_type": "stream",
     "text": [
      "1. i made nico promise to run away screaming if i ever mention floating the dirty devil at anything less than cfs again although i feel it would be safe at cfs or so and i have floated it at a steady cfs without much problem\n",
      "2. i want to feel as carefree as i did back then\n",
      "3. i often feel i want to do what i can to cure these many talented and lovely authors spot readers on their books\n"
     ]
    }
   ],
   "source": [
    "sample_texts_label_1 = df[df['label'] == 1]['text'].sample(3, random_state=42)\n",
    "for i, text in enumerate(sample_texts_label_1):\n",
    "        print(f\"{i+1}. {text}\")"
   ]
  },
  {
   "cell_type": "code",
   "execution_count": 10,
   "id": "8c3364a6-c9a8-4bd7-8bb6-26c60e128947",
   "metadata": {},
   "outputs": [
    {
     "name": "stdout",
     "output_type": "stream",
     "text": [
      "1. i feel rebellious and i like it\n",
      "2. i feel completely agitated and full of blame\n",
      "3. i feel like a witch bc im aggravated and i want to go over there but like i dunno\n"
     ]
    }
   ],
   "source": [
    "sample_texts_label_3 = df[df['label'] == 3]['text'].sample(3, random_state=42)\n",
    "for i, text in enumerate(sample_texts_label_3):\n",
    "        print(f\"{i+1}. {text}\")"
   ]
  },
  {
   "cell_type": "code",
   "execution_count": 11,
   "id": "90446761-7add-49cd-ade2-73864fa889da",
   "metadata": {},
   "outputs": [
    {
     "name": "stdout",
     "output_type": "stream",
     "text": [
      "1. i feel that it creates a suspicious environment where every american is suspect who doesnt goose step to the majority party in power\n",
      "2. i feel reluctant asking for anything\n",
      "3. i am afraid to really show what i feel because im terrified of having it thrown back in my face\n"
     ]
    }
   ],
   "source": [
    "sample_texts_label_4 = df[df['label'] == 4]['text'].sample(3, random_state=42)\n",
    "for i, text in enumerate(sample_texts_label_4):\n",
    "        print(f\"{i+1}. {text}\")"
   ]
  },
  {
   "cell_type": "code",
   "execution_count": 12,
   "id": "3fb78626-01d3-46c5-a825-c9d6f91970e9",
   "metadata": {},
   "outputs": [
    {
     "name": "stdout",
     "output_type": "stream",
     "text": [
      "1. i feel like im advertising here but i was seriously impressed\n",
      "2. i feel you will be impressed with the entire interview through\n",
      "3. i still feel a bit funny\n"
     ]
    }
   ],
   "source": [
    "sample_texts_label_5 = df[df['label'] == 5]['text'].sample(3, random_state=42)\n",
    "for i, text in enumerate(sample_texts_label_5):\n",
    "        print(f\"{i+1}. {text}\")"
   ]
  },
  {
   "cell_type": "markdown",
   "id": "3c4a8342-a784-4597-a18d-2381dfeaf0eb",
   "metadata": {},
   "source": [
    "#### dictionary to keep track labels "
   ]
  },
  {
   "cell_type": "code",
   "execution_count": 13,
   "id": "059c69f3-6ae9-4e44-940f-e4cd670379fe",
   "metadata": {},
   "outputs": [],
   "source": [
    "emotion_mapping = {\n",
    "    0: 'sadness',\n",
    "    1: 'joy',\n",
    "    2: 'love',\n",
    "    3: 'anger',\n",
    "    4: 'fear',\n",
    "    5: 'surprise'\n",
    "}"
   ]
  },
  {
   "cell_type": "markdown",
   "id": "1ac60b8c-350f-400d-904e-12c4522239d0",
   "metadata": {},
   "source": [
    "### Preprocessing"
   ]
  },
  {
   "cell_type": "code",
   "execution_count": 14,
   "id": "85a09730-4923-496d-b333-78fe248214c9",
   "metadata": {},
   "outputs": [],
   "source": [
    "lemmatizer = WordNetLemmatizer()\n",
    "stop_words = set(stopwords.words('english'))\n"
   ]
  },
  {
   "cell_type": "code",
   "execution_count": 15,
   "id": "ed76120a-74ae-4ee9-98b4-e49ca966835a",
   "metadata": {},
   "outputs": [],
   "source": [
    "def preprocess_text(text):\n",
    "    # 1. Lowercasing\n",
    "    text = text.lower()\n",
    "    \n",
    "    # 2. Remove URLs\n",
    "    text = re.sub(r'http\\S+|www\\S+|https\\S+', '', text, flags=re.MULTILINE)\n",
    "    \n",
    "    # 3. Remove user @mentions\n",
    "    text = re.sub(r'\\@\\w+', '', text)\n",
    "    \n",
    "    # 4. Remove hashtags\n",
    "    text = re.sub(r'#', '', text) \n",
    "    \n",
    "    # 5. Remove punctuation and special characters\n",
    "    text = re.sub(r'[^\\w\\s]', '', text) \n",
    "\n",
    "    # 6. Tokenization \n",
    "    tokens = word_tokenize(text)\n",
    "    \n",
    "    # 7. Remove stopwords and lemmatize\n",
    "    processed_tokens = []\n",
    "    for word in tokens:\n",
    "        if word not in stop_words: \n",
    "            lemma = lemmatizer.lemmatize(word) \n",
    "            processed_tokens.append(lemma)\n",
    "    \n",
    "    # Join the processed tokens back into a single string\n",
    "    return \" \".join(processed_tokens)\n"
   ]
  },
  {
   "cell_type": "markdown",
   "id": "cf06770c-49ed-4573-af19-464628abe4dd",
   "metadata": {},
   "source": [
    "#### preprocessing function test"
   ]
  },
  {
   "cell_type": "code",
   "execution_count": 16,
   "id": "cae812ee-9e82-4236-a3d2-52bd862d6f51",
   "metadata": {},
   "outputs": [
    {
     "name": "stdout",
     "output_type": "stream",
     "text": [
      "Original: I am SO HAPPY today, can't believe it! #Blessed http://example.com @user123\n",
      "Processed: happy today cant believe blessed\n",
      "\n",
      "Original: Feeling a bit down and weary... watching the news doesn't help.\n",
      "Processed: feeling bit weary watching news doesnt help\n",
      "\n",
      "Original: This is the 3rd time I'm trying this, it's so frustrating!!!\n",
      "Processed: 3rd time im trying frustrating\n",
      "\n"
     ]
    }
   ],
   "source": [
    "sample_texts_for_testing = [\n",
    "    \"I am SO HAPPY today, can't believe it! #Blessed http://example.com @user123\",\n",
    "    \"Feeling a bit down and weary... watching the news doesn't help.\",\n",
    "    \"This is the 3rd time I'm trying this, it's so frustrating!!!\"\n",
    "]\n",
    "\n",
    "for text_sample in sample_texts_for_testing: \n",
    "    print(f\"Original: {text_sample}\")\n",
    "    print(f\"Processed: {preprocess_text(text_sample)}\\n\")"
   ]
  },
  {
   "cell_type": "markdown",
   "id": "765ca053-e9ed-41db-b63c-67b9f88083af",
   "metadata": {},
   "source": [
    "#### Preprocessing the Entire Dataset"
   ]
  },
  {
   "cell_type": "code",
   "execution_count": 17,
   "id": "5a0e4f6a-046e-49cc-a548-efa8fea0034c",
   "metadata": {},
   "outputs": [],
   "source": [
    "df['cleaned_text'] = df['text'].apply(preprocess_text)\n"
   ]
  },
  {
   "cell_type": "code",
   "execution_count": 18,
   "id": "0a250fa4-845c-4fcf-bd7a-c7215a14f505",
   "metadata": {},
   "outputs": [
    {
     "name": "stdout",
     "output_type": "stream",
     "text": [
      "                                                text  \\\n",
      "0      i just feel really helpless and heavy hearted   \n",
      "1  ive enjoyed being able to slouch about relax a...   \n",
      "2  i gave up my internship with the dmrg and am f...   \n",
      "3                         i dont know i feel so lost   \n",
      "4  i am a kindergarten teacher and i am thoroughl...   \n",
      "\n",
      "                                        cleaned_text  label  \n",
      "0                 feel really helpless heavy hearted      4  \n",
      "1  ive enjoyed able slouch relax unwind frankly n...      0  \n",
      "2            gave internship dmrg feeling distraught      4  \n",
      "3                                dont know feel lost      0  \n",
      "4  kindergarten teacher thoroughly weary job take...      4  \n"
     ]
    }
   ],
   "source": [
    "print(df[['text', 'cleaned_text', 'label']].head())"
   ]
  },
  {
   "cell_type": "code",
   "execution_count": 19,
   "id": "d2ceb0dc-f4c4-4e09-9446-a901d5c4d79f",
   "metadata": {},
   "outputs": [
    {
     "name": "stdout",
     "output_type": "stream",
     "text": [
      "\n",
      "Number of empty strings in 'cleaned_text':16\n"
     ]
    }
   ],
   "source": [
    "#Check for any empty strings in 'cleaned_text'\n",
    "empty_string_count = len(df[df['cleaned_text'] == ''])\n",
    "print(f\"\\nNumber of empty strings in 'cleaned_text':{empty_string_count}\")"
   ]
  },
  {
   "cell_type": "code",
   "execution_count": 20,
   "id": "dda64617-bb34-4712-a85f-bdfc1e5df55b",
   "metadata": {},
   "outputs": [],
   "source": [
    " df = df[df['cleaned_text'] != '']  #remove rows with empty cleaned_text"
   ]
  },
  {
   "cell_type": "code",
   "execution_count": 21,
   "id": "54f6b03b-49cc-4d9a-8886-c30650035a0a",
   "metadata": {},
   "outputs": [
    {
     "name": "stdout",
     "output_type": "stream",
     "text": [
      "\n",
      "Number of empty strings in 'cleaned_text':0\n"
     ]
    }
   ],
   "source": [
    "empty_string_count = len(df[df['cleaned_text'] == ''])\n",
    "print(f\"\\nNumber of empty strings in 'cleaned_text':{empty_string_count}\")"
   ]
  },
  {
   "cell_type": "markdown",
   "id": "54543fab-e0a4-4cb1-8721-3f7547df7c4e",
   "metadata": {},
   "source": [
    "#### saving the cleaned dataset"
   ]
  },
  {
   "cell_type": "code",
   "execution_count": 22,
   "id": "97bceee2-18fe-419c-9448-eff3eb7bccdf",
   "metadata": {},
   "outputs": [],
   "source": [
    "df.to_csv('data/emotions_cleaned.csv', index=False)"
   ]
  },
  {
   "cell_type": "markdown",
   "id": "5b86abf7-eed9-4fb7-bf24-011716a449bc",
   "metadata": {},
   "source": [
    "#### Reducing dataset size"
   ]
  },
  {
   "cell_type": "code",
   "execution_count": 23,
   "id": "6584f76d-46c1-41ab-8670-78b57afbe918",
   "metadata": {},
   "outputs": [],
   "source": [
    "desired_fraction = 0.25 # Use 25% of the data"
   ]
  },
  {
   "cell_type": "code",
   "execution_count": 24,
   "id": "9e0a4d1a-e714-4a87-a41c-1693d588e6f9",
   "metadata": {},
   "outputs": [
    {
     "name": "stdout",
     "output_type": "stream",
     "text": [
      "Original dataset size: 416793\n",
      "Reduced dataset size (df_subset): 104198\n",
      "\n",
      "Original label distribution (normalized):\n",
      "label\n",
      "0    0.290751\n",
      "1    0.338451\n",
      "2    0.082904\n",
      "3    0.137505\n",
      "4    0.114467\n",
      "5    0.035922\n",
      "Name: proportion, dtype: float64\n",
      "\n",
      "Subset label distribution (normalized):\n",
      "label\n",
      "0    0.290754\n",
      "1    0.338452\n",
      "2    0.082900\n",
      "3    0.137507\n",
      "4    0.114465\n",
      "5    0.035922\n",
      "Name: proportion, dtype: float64\n"
     ]
    }
   ],
   "source": [
    "df_subset, _ = train_test_split(\n",
    "    df,\n",
    "    train_size=desired_fraction, \n",
    "    random_state=42,             \n",
    "    stratify=df['label']    # for maintaining class proportions\n",
    ")\n",
    "\n",
    "print(f\"Original dataset size: {len(df)}\")\n",
    "print(f\"Reduced dataset size (df_subset): {len(df_subset)}\")\n",
    "print(\"\\nOriginal label distribution (normalized):\")\n",
    "print(df['label'].value_counts(normalize=True).sort_index())\n",
    "print(\"\\nSubset label distribution (normalized):\")\n",
    "print(df_subset['label'].value_counts(normalize=True).sort_index())"
   ]
  },
  {
   "cell_type": "markdown",
   "id": "30abed31-4f11-47ad-be18-1c122333b459",
   "metadata": {},
   "source": [
    "#### Data Splitting"
   ]
  },
  {
   "cell_type": "code",
   "execution_count": 25,
   "id": "34a48b91-7c5b-4939-9c44-7e812159ccc4",
   "metadata": {},
   "outputs": [],
   "source": [
    "X = df_subset['cleaned_text'].astype(str) # Ensure it's string type\n",
    "y = df_subset['label'] \n"
   ]
  },
  {
   "cell_type": "code",
   "execution_count": 26,
   "id": "ada4d1e3-2bd3-432c-a004-9fb3b64c25f7",
   "metadata": {},
   "outputs": [],
   "source": [
    "X_train, X_test, y_train, y_test = train_test_split(X, y, test_size=0.2, random_state=42, stratify=y)"
   ]
  },
  {
   "cell_type": "markdown",
   "id": "b1c69077-fa7d-4abc-8e29-6fc19927a8ba",
   "metadata": {},
   "source": [
    "#### TFIDF Vectorization"
   ]
  },
  {
   "cell_type": "code",
   "execution_count": 27,
   "id": "1a030b0b-6c27-4664-8559-c57a07e83385",
   "metadata": {},
   "outputs": [],
   "source": [
    "tfidf_vectorizer = TfidfVectorizer(max_features=5000, ngram_range=(1,2))"
   ]
  },
  {
   "cell_type": "code",
   "execution_count": 28,
   "id": "cba6d4c7-4597-4917-81bb-95c1a6b282de",
   "metadata": {},
   "outputs": [],
   "source": [
    "X_train_tfidf = tfidf_vectorizer.fit_transform(X_train)\n",
    "X_test_tfidf = tfidf_vectorizer.transform(X_test)"
   ]
  },
  {
   "cell_type": "code",
   "execution_count": 29,
   "id": "a68a6b19-8c56-4961-8129-7b8dee441771",
   "metadata": {},
   "outputs": [
    {
     "name": "stdout",
     "output_type": "stream",
     "text": [
      "X_train_tfidf shape: (83358, 5000)\n",
      "X_test_tfidf shape: (20840, 5000)\n"
     ]
    }
   ],
   "source": [
    "print(f\"X_train_tfidf shape: {X_train_tfidf.shape}\")\n",
    "print(f\"X_test_tfidf shape: {X_test_tfidf.shape}\")"
   ]
  },
  {
   "cell_type": "markdown",
   "id": "7949376e-3a3c-4cbc-a4cf-15b434d0f2aa",
   "metadata": {},
   "source": [
    "### Model Development"
   ]
  },
  {
   "cell_type": "markdown",
   "id": "bc510f40-beeb-442f-ab19-9f5f0897c7dd",
   "metadata": {},
   "source": [
    "#### Base line Model : Logistic Regression\n",
    "\n",
    "class_weight is set balanced to deal with the class imbalance found during eda"
   ]
  },
  {
   "cell_type": "code",
   "execution_count": 30,
   "id": "21fae551-fe1d-4acd-a34d-7669f51f4679",
   "metadata": {},
   "outputs": [],
   "source": [
    "log_reg_model = LogisticRegression(solver='saga', multi_class='multinomial', random_state=42, class_weight='balanced', max_iter=1000)"
   ]
  },
  {
   "cell_type": "code",
   "execution_count": 31,
   "id": "e2798362-1aeb-4ca3-ba7a-aafe129fc07a",
   "metadata": {},
   "outputs": [
    {
     "name": "stderr",
     "output_type": "stream",
     "text": [
      "/Users/voyager/miniconda3/envs/envcodespace/lib/python3.12/site-packages/sklearn/linear_model/_logistic.py:1247: FutureWarning: 'multi_class' was deprecated in version 1.5 and will be removed in 1.7. From then on, it will always use 'multinomial'. Leave it to its default value to avoid this warning.\n",
      "  warnings.warn(\n",
      "/Users/voyager/miniconda3/envs/envcodespace/lib/python3.12/site-packages/sklearn/linear_model/_sag.py:349: ConvergenceWarning: The max_iter was reached which means the coef_ did not converge\n",
      "  warnings.warn(\n"
     ]
    },
    {
     "data": {
      "text/html": [
       "<style>#sk-container-id-1 {\n",
       "  /* Definition of color scheme common for light and dark mode */\n",
       "  --sklearn-color-text: black;\n",
       "  --sklearn-color-line: gray;\n",
       "  /* Definition of color scheme for unfitted estimators */\n",
       "  --sklearn-color-unfitted-level-0: #fff5e6;\n",
       "  --sklearn-color-unfitted-level-1: #f6e4d2;\n",
       "  --sklearn-color-unfitted-level-2: #ffe0b3;\n",
       "  --sklearn-color-unfitted-level-3: chocolate;\n",
       "  /* Definition of color scheme for fitted estimators */\n",
       "  --sklearn-color-fitted-level-0: #f0f8ff;\n",
       "  --sklearn-color-fitted-level-1: #d4ebff;\n",
       "  --sklearn-color-fitted-level-2: #b3dbfd;\n",
       "  --sklearn-color-fitted-level-3: cornflowerblue;\n",
       "\n",
       "  /* Specific color for light theme */\n",
       "  --sklearn-color-text-on-default-background: var(--sg-text-color, var(--theme-code-foreground, var(--jp-content-font-color1, black)));\n",
       "  --sklearn-color-background: var(--sg-background-color, var(--theme-background, var(--jp-layout-color0, white)));\n",
       "  --sklearn-color-border-box: var(--sg-text-color, var(--theme-code-foreground, var(--jp-content-font-color1, black)));\n",
       "  --sklearn-color-icon: #696969;\n",
       "\n",
       "  @media (prefers-color-scheme: dark) {\n",
       "    /* Redefinition of color scheme for dark theme */\n",
       "    --sklearn-color-text-on-default-background: var(--sg-text-color, var(--theme-code-foreground, var(--jp-content-font-color1, white)));\n",
       "    --sklearn-color-background: var(--sg-background-color, var(--theme-background, var(--jp-layout-color0, #111)));\n",
       "    --sklearn-color-border-box: var(--sg-text-color, var(--theme-code-foreground, var(--jp-content-font-color1, white)));\n",
       "    --sklearn-color-icon: #878787;\n",
       "  }\n",
       "}\n",
       "\n",
       "#sk-container-id-1 {\n",
       "  color: var(--sklearn-color-text);\n",
       "}\n",
       "\n",
       "#sk-container-id-1 pre {\n",
       "  padding: 0;\n",
       "}\n",
       "\n",
       "#sk-container-id-1 input.sk-hidden--visually {\n",
       "  border: 0;\n",
       "  clip: rect(1px 1px 1px 1px);\n",
       "  clip: rect(1px, 1px, 1px, 1px);\n",
       "  height: 1px;\n",
       "  margin: -1px;\n",
       "  overflow: hidden;\n",
       "  padding: 0;\n",
       "  position: absolute;\n",
       "  width: 1px;\n",
       "}\n",
       "\n",
       "#sk-container-id-1 div.sk-dashed-wrapped {\n",
       "  border: 1px dashed var(--sklearn-color-line);\n",
       "  margin: 0 0.4em 0.5em 0.4em;\n",
       "  box-sizing: border-box;\n",
       "  padding-bottom: 0.4em;\n",
       "  background-color: var(--sklearn-color-background);\n",
       "}\n",
       "\n",
       "#sk-container-id-1 div.sk-container {\n",
       "  /* jupyter's `normalize.less` sets `[hidden] { display: none; }`\n",
       "     but bootstrap.min.css set `[hidden] { display: none !important; }`\n",
       "     so we also need the `!important` here to be able to override the\n",
       "     default hidden behavior on the sphinx rendered scikit-learn.org.\n",
       "     See: https://github.com/scikit-learn/scikit-learn/issues/21755 */\n",
       "  display: inline-block !important;\n",
       "  position: relative;\n",
       "}\n",
       "\n",
       "#sk-container-id-1 div.sk-text-repr-fallback {\n",
       "  display: none;\n",
       "}\n",
       "\n",
       "div.sk-parallel-item,\n",
       "div.sk-serial,\n",
       "div.sk-item {\n",
       "  /* draw centered vertical line to link estimators */\n",
       "  background-image: linear-gradient(var(--sklearn-color-text-on-default-background), var(--sklearn-color-text-on-default-background));\n",
       "  background-size: 2px 100%;\n",
       "  background-repeat: no-repeat;\n",
       "  background-position: center center;\n",
       "}\n",
       "\n",
       "/* Parallel-specific style estimator block */\n",
       "\n",
       "#sk-container-id-1 div.sk-parallel-item::after {\n",
       "  content: \"\";\n",
       "  width: 100%;\n",
       "  border-bottom: 2px solid var(--sklearn-color-text-on-default-background);\n",
       "  flex-grow: 1;\n",
       "}\n",
       "\n",
       "#sk-container-id-1 div.sk-parallel {\n",
       "  display: flex;\n",
       "  align-items: stretch;\n",
       "  justify-content: center;\n",
       "  background-color: var(--sklearn-color-background);\n",
       "  position: relative;\n",
       "}\n",
       "\n",
       "#sk-container-id-1 div.sk-parallel-item {\n",
       "  display: flex;\n",
       "  flex-direction: column;\n",
       "}\n",
       "\n",
       "#sk-container-id-1 div.sk-parallel-item:first-child::after {\n",
       "  align-self: flex-end;\n",
       "  width: 50%;\n",
       "}\n",
       "\n",
       "#sk-container-id-1 div.sk-parallel-item:last-child::after {\n",
       "  align-self: flex-start;\n",
       "  width: 50%;\n",
       "}\n",
       "\n",
       "#sk-container-id-1 div.sk-parallel-item:only-child::after {\n",
       "  width: 0;\n",
       "}\n",
       "\n",
       "/* Serial-specific style estimator block */\n",
       "\n",
       "#sk-container-id-1 div.sk-serial {\n",
       "  display: flex;\n",
       "  flex-direction: column;\n",
       "  align-items: center;\n",
       "  background-color: var(--sklearn-color-background);\n",
       "  padding-right: 1em;\n",
       "  padding-left: 1em;\n",
       "}\n",
       "\n",
       "\n",
       "/* Toggleable style: style used for estimator/Pipeline/ColumnTransformer box that is\n",
       "clickable and can be expanded/collapsed.\n",
       "- Pipeline and ColumnTransformer use this feature and define the default style\n",
       "- Estimators will overwrite some part of the style using the `sk-estimator` class\n",
       "*/\n",
       "\n",
       "/* Pipeline and ColumnTransformer style (default) */\n",
       "\n",
       "#sk-container-id-1 div.sk-toggleable {\n",
       "  /* Default theme specific background. It is overwritten whether we have a\n",
       "  specific estimator or a Pipeline/ColumnTransformer */\n",
       "  background-color: var(--sklearn-color-background);\n",
       "}\n",
       "\n",
       "/* Toggleable label */\n",
       "#sk-container-id-1 label.sk-toggleable__label {\n",
       "  cursor: pointer;\n",
       "  display: block;\n",
       "  width: 100%;\n",
       "  margin-bottom: 0;\n",
       "  padding: 0.5em;\n",
       "  box-sizing: border-box;\n",
       "  text-align: center;\n",
       "}\n",
       "\n",
       "#sk-container-id-1 label.sk-toggleable__label-arrow:before {\n",
       "  /* Arrow on the left of the label */\n",
       "  content: \"▸\";\n",
       "  float: left;\n",
       "  margin-right: 0.25em;\n",
       "  color: var(--sklearn-color-icon);\n",
       "}\n",
       "\n",
       "#sk-container-id-1 label.sk-toggleable__label-arrow:hover:before {\n",
       "  color: var(--sklearn-color-text);\n",
       "}\n",
       "\n",
       "/* Toggleable content - dropdown */\n",
       "\n",
       "#sk-container-id-1 div.sk-toggleable__content {\n",
       "  max-height: 0;\n",
       "  max-width: 0;\n",
       "  overflow: hidden;\n",
       "  text-align: left;\n",
       "  /* unfitted */\n",
       "  background-color: var(--sklearn-color-unfitted-level-0);\n",
       "}\n",
       "\n",
       "#sk-container-id-1 div.sk-toggleable__content.fitted {\n",
       "  /* fitted */\n",
       "  background-color: var(--sklearn-color-fitted-level-0);\n",
       "}\n",
       "\n",
       "#sk-container-id-1 div.sk-toggleable__content pre {\n",
       "  margin: 0.2em;\n",
       "  border-radius: 0.25em;\n",
       "  color: var(--sklearn-color-text);\n",
       "  /* unfitted */\n",
       "  background-color: var(--sklearn-color-unfitted-level-0);\n",
       "}\n",
       "\n",
       "#sk-container-id-1 div.sk-toggleable__content.fitted pre {\n",
       "  /* unfitted */\n",
       "  background-color: var(--sklearn-color-fitted-level-0);\n",
       "}\n",
       "\n",
       "#sk-container-id-1 input.sk-toggleable__control:checked~div.sk-toggleable__content {\n",
       "  /* Expand drop-down */\n",
       "  max-height: 200px;\n",
       "  max-width: 100%;\n",
       "  overflow: auto;\n",
       "}\n",
       "\n",
       "#sk-container-id-1 input.sk-toggleable__control:checked~label.sk-toggleable__label-arrow:before {\n",
       "  content: \"▾\";\n",
       "}\n",
       "\n",
       "/* Pipeline/ColumnTransformer-specific style */\n",
       "\n",
       "#sk-container-id-1 div.sk-label input.sk-toggleable__control:checked~label.sk-toggleable__label {\n",
       "  color: var(--sklearn-color-text);\n",
       "  background-color: var(--sklearn-color-unfitted-level-2);\n",
       "}\n",
       "\n",
       "#sk-container-id-1 div.sk-label.fitted input.sk-toggleable__control:checked~label.sk-toggleable__label {\n",
       "  background-color: var(--sklearn-color-fitted-level-2);\n",
       "}\n",
       "\n",
       "/* Estimator-specific style */\n",
       "\n",
       "/* Colorize estimator box */\n",
       "#sk-container-id-1 div.sk-estimator input.sk-toggleable__control:checked~label.sk-toggleable__label {\n",
       "  /* unfitted */\n",
       "  background-color: var(--sklearn-color-unfitted-level-2);\n",
       "}\n",
       "\n",
       "#sk-container-id-1 div.sk-estimator.fitted input.sk-toggleable__control:checked~label.sk-toggleable__label {\n",
       "  /* fitted */\n",
       "  background-color: var(--sklearn-color-fitted-level-2);\n",
       "}\n",
       "\n",
       "#sk-container-id-1 div.sk-label label.sk-toggleable__label,\n",
       "#sk-container-id-1 div.sk-label label {\n",
       "  /* The background is the default theme color */\n",
       "  color: var(--sklearn-color-text-on-default-background);\n",
       "}\n",
       "\n",
       "/* On hover, darken the color of the background */\n",
       "#sk-container-id-1 div.sk-label:hover label.sk-toggleable__label {\n",
       "  color: var(--sklearn-color-text);\n",
       "  background-color: var(--sklearn-color-unfitted-level-2);\n",
       "}\n",
       "\n",
       "/* Label box, darken color on hover, fitted */\n",
       "#sk-container-id-1 div.sk-label.fitted:hover label.sk-toggleable__label.fitted {\n",
       "  color: var(--sklearn-color-text);\n",
       "  background-color: var(--sklearn-color-fitted-level-2);\n",
       "}\n",
       "\n",
       "/* Estimator label */\n",
       "\n",
       "#sk-container-id-1 div.sk-label label {\n",
       "  font-family: monospace;\n",
       "  font-weight: bold;\n",
       "  display: inline-block;\n",
       "  line-height: 1.2em;\n",
       "}\n",
       "\n",
       "#sk-container-id-1 div.sk-label-container {\n",
       "  text-align: center;\n",
       "}\n",
       "\n",
       "/* Estimator-specific */\n",
       "#sk-container-id-1 div.sk-estimator {\n",
       "  font-family: monospace;\n",
       "  border: 1px dotted var(--sklearn-color-border-box);\n",
       "  border-radius: 0.25em;\n",
       "  box-sizing: border-box;\n",
       "  margin-bottom: 0.5em;\n",
       "  /* unfitted */\n",
       "  background-color: var(--sklearn-color-unfitted-level-0);\n",
       "}\n",
       "\n",
       "#sk-container-id-1 div.sk-estimator.fitted {\n",
       "  /* fitted */\n",
       "  background-color: var(--sklearn-color-fitted-level-0);\n",
       "}\n",
       "\n",
       "/* on hover */\n",
       "#sk-container-id-1 div.sk-estimator:hover {\n",
       "  /* unfitted */\n",
       "  background-color: var(--sklearn-color-unfitted-level-2);\n",
       "}\n",
       "\n",
       "#sk-container-id-1 div.sk-estimator.fitted:hover {\n",
       "  /* fitted */\n",
       "  background-color: var(--sklearn-color-fitted-level-2);\n",
       "}\n",
       "\n",
       "/* Specification for estimator info (e.g. \"i\" and \"?\") */\n",
       "\n",
       "/* Common style for \"i\" and \"?\" */\n",
       "\n",
       ".sk-estimator-doc-link,\n",
       "a:link.sk-estimator-doc-link,\n",
       "a:visited.sk-estimator-doc-link {\n",
       "  float: right;\n",
       "  font-size: smaller;\n",
       "  line-height: 1em;\n",
       "  font-family: monospace;\n",
       "  background-color: var(--sklearn-color-background);\n",
       "  border-radius: 1em;\n",
       "  height: 1em;\n",
       "  width: 1em;\n",
       "  text-decoration: none !important;\n",
       "  margin-left: 1ex;\n",
       "  /* unfitted */\n",
       "  border: var(--sklearn-color-unfitted-level-1) 1pt solid;\n",
       "  color: var(--sklearn-color-unfitted-level-1);\n",
       "}\n",
       "\n",
       ".sk-estimator-doc-link.fitted,\n",
       "a:link.sk-estimator-doc-link.fitted,\n",
       "a:visited.sk-estimator-doc-link.fitted {\n",
       "  /* fitted */\n",
       "  border: var(--sklearn-color-fitted-level-1) 1pt solid;\n",
       "  color: var(--sklearn-color-fitted-level-1);\n",
       "}\n",
       "\n",
       "/* On hover */\n",
       "div.sk-estimator:hover .sk-estimator-doc-link:hover,\n",
       ".sk-estimator-doc-link:hover,\n",
       "div.sk-label-container:hover .sk-estimator-doc-link:hover,\n",
       ".sk-estimator-doc-link:hover {\n",
       "  /* unfitted */\n",
       "  background-color: var(--sklearn-color-unfitted-level-3);\n",
       "  color: var(--sklearn-color-background);\n",
       "  text-decoration: none;\n",
       "}\n",
       "\n",
       "div.sk-estimator.fitted:hover .sk-estimator-doc-link.fitted:hover,\n",
       ".sk-estimator-doc-link.fitted:hover,\n",
       "div.sk-label-container:hover .sk-estimator-doc-link.fitted:hover,\n",
       ".sk-estimator-doc-link.fitted:hover {\n",
       "  /* fitted */\n",
       "  background-color: var(--sklearn-color-fitted-level-3);\n",
       "  color: var(--sklearn-color-background);\n",
       "  text-decoration: none;\n",
       "}\n",
       "\n",
       "/* Span, style for the box shown on hovering the info icon */\n",
       ".sk-estimator-doc-link span {\n",
       "  display: none;\n",
       "  z-index: 9999;\n",
       "  position: relative;\n",
       "  font-weight: normal;\n",
       "  right: .2ex;\n",
       "  padding: .5ex;\n",
       "  margin: .5ex;\n",
       "  width: min-content;\n",
       "  min-width: 20ex;\n",
       "  max-width: 50ex;\n",
       "  color: var(--sklearn-color-text);\n",
       "  box-shadow: 2pt 2pt 4pt #999;\n",
       "  /* unfitted */\n",
       "  background: var(--sklearn-color-unfitted-level-0);\n",
       "  border: .5pt solid var(--sklearn-color-unfitted-level-3);\n",
       "}\n",
       "\n",
       ".sk-estimator-doc-link.fitted span {\n",
       "  /* fitted */\n",
       "  background: var(--sklearn-color-fitted-level-0);\n",
       "  border: var(--sklearn-color-fitted-level-3);\n",
       "}\n",
       "\n",
       ".sk-estimator-doc-link:hover span {\n",
       "  display: block;\n",
       "}\n",
       "\n",
       "/* \"?\"-specific style due to the `<a>` HTML tag */\n",
       "\n",
       "#sk-container-id-1 a.estimator_doc_link {\n",
       "  float: right;\n",
       "  font-size: 1rem;\n",
       "  line-height: 1em;\n",
       "  font-family: monospace;\n",
       "  background-color: var(--sklearn-color-background);\n",
       "  border-radius: 1rem;\n",
       "  height: 1rem;\n",
       "  width: 1rem;\n",
       "  text-decoration: none;\n",
       "  /* unfitted */\n",
       "  color: var(--sklearn-color-unfitted-level-1);\n",
       "  border: var(--sklearn-color-unfitted-level-1) 1pt solid;\n",
       "}\n",
       "\n",
       "#sk-container-id-1 a.estimator_doc_link.fitted {\n",
       "  /* fitted */\n",
       "  border: var(--sklearn-color-fitted-level-1) 1pt solid;\n",
       "  color: var(--sklearn-color-fitted-level-1);\n",
       "}\n",
       "\n",
       "/* On hover */\n",
       "#sk-container-id-1 a.estimator_doc_link:hover {\n",
       "  /* unfitted */\n",
       "  background-color: var(--sklearn-color-unfitted-level-3);\n",
       "  color: var(--sklearn-color-background);\n",
       "  text-decoration: none;\n",
       "}\n",
       "\n",
       "#sk-container-id-1 a.estimator_doc_link.fitted:hover {\n",
       "  /* fitted */\n",
       "  background-color: var(--sklearn-color-fitted-level-3);\n",
       "}\n",
       "</style><div id=\"sk-container-id-1\" class=\"sk-top-container\"><div class=\"sk-text-repr-fallback\"><pre>LogisticRegression(class_weight=&#x27;balanced&#x27;, max_iter=1000,\n",
       "                   multi_class=&#x27;multinomial&#x27;, random_state=42, solver=&#x27;saga&#x27;)</pre><b>In a Jupyter environment, please rerun this cell to show the HTML representation or trust the notebook. <br />On GitHub, the HTML representation is unable to render, please try loading this page with nbviewer.org.</b></div><div class=\"sk-container\" hidden><div class=\"sk-item\"><div class=\"sk-estimator fitted sk-toggleable\"><input class=\"sk-toggleable__control sk-hidden--visually\" id=\"sk-estimator-id-1\" type=\"checkbox\" checked><label for=\"sk-estimator-id-1\" class=\"sk-toggleable__label fitted sk-toggleable__label-arrow fitted\">&nbsp;&nbsp;LogisticRegression<a class=\"sk-estimator-doc-link fitted\" rel=\"noreferrer\" target=\"_blank\" href=\"https://scikit-learn.org/1.5/modules/generated/sklearn.linear_model.LogisticRegression.html\">?<span>Documentation for LogisticRegression</span></a><span class=\"sk-estimator-doc-link fitted\">i<span>Fitted</span></span></label><div class=\"sk-toggleable__content fitted\"><pre>LogisticRegression(class_weight=&#x27;balanced&#x27;, max_iter=1000,\n",
       "                   multi_class=&#x27;multinomial&#x27;, random_state=42, solver=&#x27;saga&#x27;)</pre></div> </div></div></div></div>"
      ],
      "text/plain": [
       "LogisticRegression(class_weight='balanced', max_iter=1000,\n",
       "                   multi_class='multinomial', random_state=42, solver='saga')"
      ]
     },
     "execution_count": 31,
     "metadata": {},
     "output_type": "execute_result"
    }
   ],
   "source": [
    "log_reg_model.fit(X_train_tfidf, y_train)"
   ]
  },
  {
   "cell_type": "code",
   "execution_count": 32,
   "id": "2c28719d-0730-4ea8-b6ce-8366b05c8d5f",
   "metadata": {},
   "outputs": [],
   "source": [
    "# Make predictions\n",
    "y_pred_log_reg = log_reg_model.predict(X_test_tfidf)\n"
   ]
  },
  {
   "cell_type": "code",
   "execution_count": 33,
   "id": "f4febf01-cfd3-4eef-8bda-60e572728dfe",
   "metadata": {},
   "outputs": [
    {
     "name": "stdout",
     "output_type": "stream",
     "text": [
      "Accuracy: 0.9090\n",
      "              precision    recall  f1-score   support\n",
      "\n",
      "     sadness       0.97      0.93      0.95      6059\n",
      "         joy       0.98      0.88      0.93      7053\n",
      "        love       0.74      0.97      0.84      1728\n",
      "       anger       0.90      0.92      0.91      2866\n",
      "        fear       0.83      0.90      0.87      2385\n",
      "    surprise       0.70      0.88      0.78       749\n",
      "\n",
      "    accuracy                           0.91     20840\n",
      "   macro avg       0.85      0.91      0.88     20840\n",
      "weighted avg       0.92      0.91      0.91     20840\n",
      "\n"
     ]
    }
   ],
   "source": [
    "#base line model evaluation\n",
    "print(f\"Accuracy: {accuracy_score(y_test, y_pred_log_reg):.4f}\")\n",
    "print(classification_report(y_test, y_pred_log_reg, target_names=[emotion_mapping[i] for i in sorted(y_test.unique())]))"
   ]
  },
  {
   "cell_type": "code",
   "execution_count": 34,
   "id": "459d408f-7702-4675-8d95-290efa673978",
   "metadata": {},
   "outputs": [
    {
     "data": {
      "image/png": "[encoded data removed]",
      "text/plain": [
       "<Figure size 800x600 with 2 Axes>"
      ]
     },
     "metadata": {},
     "output_type": "display_data"
    }
   ],
   "source": [
    "cm_log_reg = confusion_matrix(y_test, y_pred_log_reg)\n",
    "plt.figure(figsize=(8, 6))\n",
    "sns.heatmap(cm_log_reg, annot=True, fmt='d', cmap='Blues', \n",
    "            xticklabels=[emotion_mapping[i] for i in sorted(y_test.unique())], \n",
    "            yticklabels=[emotion_mapping[i] for i in sorted(y_test.unique())])\n",
    "plt.xlabel('Predicted Label')\n",
    "plt.ylabel('True Label')\n",
    "plt.title('Confusion Matrix - Logistic Regression')\n",
    "plt.show()"
   ]
  },
  {
   "cell_type": "markdown",
   "id": "f2a41f62-41f5-418b-bd37-8cea070d3a24",
   "metadata": {},
   "source": [
    "### Main Model - SVM "
   ]
  },
  {
   "cell_type": "markdown",
   "id": "6c5b6896-b0e1-4a8f-aede-f4d38e7e9197",
   "metadata": {},
   "source": [
    "#### SVM Kernel Comparison"
   ]
  },
  {
   "cell_type": "code",
   "execution_count": 35,
   "id": "be1b3994-984d-4cc0-ba5a-082c24a15568",
   "metadata": {},
   "outputs": [
    {
     "name": "stdout",
     "output_type": "stream",
     "text": [
      "Training SVM (linear)...\n",
      "SVM (linear) training complete.\n",
      "Accuracy: 0.9037\n",
      "\n",
      "Classification Report:\n",
      "              precision    recall  f1-score   support\n",
      "\n",
      "     sadness       0.97      0.92      0.94      6059\n",
      "         joy       0.98      0.87      0.92      7053\n",
      "        love       0.72      0.98      0.83      1728\n",
      "       anger       0.90      0.92      0.91      2866\n",
      "        fear       0.85      0.88      0.87      2385\n",
      "    surprise       0.66      0.93      0.77       749\n",
      "\n",
      "    accuracy                           0.90     20840\n",
      "   macro avg       0.85      0.92      0.87     20840\n",
      "weighted avg       0.92      0.90      0.91     20840\n",
      "\n",
      "\n",
      "Confusion Matrix:\n"
     ]
    },
    {
     "data": {
      "image/png": "[encoded data removed]",
      "text/plain": [
       "<Figure size 800x600 with 2 Axes>"
      ]
     },
     "metadata": {},
     "output_type": "display_data"
    },
    {
     "name": "stdout",
     "output_type": "stream",
     "text": [
      "Training SVM (rbf)...\n",
      "SVM (rbf) training complete.\n",
      "Accuracy: 0.9035\n",
      "\n",
      "Classification Report:\n",
      "              precision    recall  f1-score   support\n",
      "\n",
      "     sadness       0.97      0.92      0.94      6059\n",
      "         joy       0.97      0.88      0.92      7053\n",
      "        love       0.73      0.96      0.83      1728\n",
      "       anger       0.90      0.91      0.91      2866\n",
      "        fear       0.85      0.88      0.86      2385\n",
      "    surprise       0.69      0.86      0.76       749\n",
      "\n",
      "    accuracy                           0.90     20840\n",
      "   macro avg       0.85      0.90      0.87     20840\n",
      "weighted avg       0.91      0.90      0.91     20840\n",
      "\n",
      "\n",
      "Confusion Matrix:\n"
     ]
    },
    {
     "data": {
      "image/png": "[encoded data removed]",
      "text/plain": [
       "<Figure size 800x600 with 2 Axes>"
      ]
     },
     "metadata": {},
     "output_type": "display_data"
    },
    {
     "name": "stdout",
     "output_type": "stream",
     "text": [
      "Training SVM (poly)...\n",
      "SVM (poly) training complete.\n",
      "Accuracy: 0.7949\n",
      "\n",
      "Classification Report:\n",
      "              precision    recall  f1-score   support\n",
      "\n",
      "     sadness       0.90      0.88      0.89      6059\n",
      "         joy       0.70      0.95      0.80      7053\n",
      "        love       0.77      0.50      0.61      1728\n",
      "       anger       0.93      0.68      0.79      2866\n",
      "        fear       0.86      0.62      0.72      2385\n",
      "    surprise       0.74      0.39      0.51       749\n",
      "\n",
      "    accuracy                           0.79     20840\n",
      "   macro avg       0.81      0.67      0.72     20840\n",
      "weighted avg       0.81      0.79      0.79     20840\n",
      "\n",
      "\n",
      "Confusion Matrix:\n"
     ]
    },
    {
     "data": {
      "image/png": "[encoded data removed]",
      "text/plain": [
       "<Figure size 800x600 with 2 Axes>"
      ]
     },
     "metadata": {},
     "output_type": "display_data"
    }
   ],
   "source": [
    "kernels_to_test = ['linear', 'rbf','poly']\n",
    "svm_results = {}\n",
    "for kernel_name in kernels_to_test:\n",
    "    svm_model = SVC(kernel=kernel_name, random_state=42, class_weight='balanced', C=1.0) # Default C=1.0\n",
    "    print(f\"Training SVM ({kernel_name})...\")\n",
    "    svm_model.fit(X_train_tfidf, y_train)\n",
    "    print(f\"SVM ({kernel_name}) training complete.\")\n",
    "   \n",
    "    # Make predictions\n",
    "    y_pred_svm = svm_model.predict(X_test_tfidf)\n",
    "\n",
    "    # Evaluate the model\n",
    "    accuracy = accuracy_score(y_test, y_pred_svm)\n",
    "    report = classification_report(y_test, y_pred_svm, target_names=[emotion_mapping[i] for i in sorted(y_test.unique())])\n",
    "\n",
    "    svm_results[kernel_name] = {'accuracy': accuracy, 'report': report, 'model': svm_model}\n",
    "\n",
    "    print(f\"Accuracy: {accuracy:.4f}\")  \n",
    "    print(\"\\nClassification Report:\")\n",
    "    print(report)\n",
    "\n",
    "    # Confusion Matrix\n",
    "    print(\"\\nConfusion Matrix:\")\n",
    "    cm_svm = confusion_matrix(y_test, y_pred_svm)\n",
    "    plt.figure(figsize=(8, 6))\n",
    "    sns.heatmap(cm_svm, annot=True, fmt='d', cmap='Blues', \n",
    "                xticklabels=[emotion_mapping[i] for i in sorted(y_test.unique())], \n",
    "                yticklabels=[emotion_mapping[i] for i in sorted(y_test.unique())])\n",
    "    plt.xlabel('Predicted Label')\n",
    "    plt.ylabel('True Label')\n",
    "    plt.title(f'Confusion Matrix - SVM ({kernel_name.upper()})')\n",
    "    plt.show()"
   ]
  },
  {
   "cell_type": "code",
   "execution_count": 36,
   "id": "e115dd42-42ee-4744-8ccf-270ad77aa69d",
   "metadata": {},
   "outputs": [
    {
     "name": "stdout",
     "output_type": "stream",
     "text": [
      "SVM with linear kernel - Accuracy: 0.9037\n",
      "SVM with rbf kernel - Accuracy: 0.9035\n",
      "SVM with poly kernel - Accuracy: 0.7949\n"
     ]
    }
   ],
   "source": [
    "for kernel, result in svm_results.items():\n",
    "    print(f\"SVM with {kernel} kernel - Accuracy: {result['accuracy']:.4f}\")"
   ]
  },
  {
   "cell_type": "markdown",
   "id": "319d25d9-0097-47af-bf63-0ab9ad967d63",
   "metadata": {},
   "source": [
    "we can chose any of the rbf or linear kernels as they have accuracy above 90 percent"
   ]
  },
  {
   "cell_type": "markdown",
   "id": "9e5b03fe-c3b2-471b-9eb2-100fea6c134e",
   "metadata": {},
   "source": [
    "### Exporting Models"
   ]
  },
  {
   "cell_type": "code",
   "execution_count": 40,
   "id": "92ae4370-f0c0-45ca-8531-f593ab1bd5b4",
   "metadata": {},
   "outputs": [
    {
     "data": {
      "text/plain": [
       "['models/tfidf_vectorizer.joblib']"
      ]
     },
     "execution_count": 40,
     "metadata": {},
     "output_type": "execute_result"
    }
   ],
   "source": [
    "joblib.dump(tfidf_vectorizer, 'models/tfidf_vectorizer.joblib')"
   ]
  },
  {
   "cell_type": "code",
   "execution_count": 42,
   "id": "7e1fb39c-abec-47cb-878d-b48b6e1bfd20",
   "metadata": {},
   "outputs": [
    {
     "data": {
      "text/plain": [
       "['models/svm_model_rbf.joblib']"
      ]
     },
     "execution_count": 42,
     "metadata": {},
     "output_type": "execute_result"
    }
   ],
   "source": [
    "chosen_kernel_to_save = 'rbf'\n",
    "model_to_save = svm_results[chosen_kernel_to_save]['model']\n",
    "model_filename = f'models/svm_model_{chosen_kernel_to_save}.joblib'\n",
    "joblib.dump(model_to_save, model_filename)"
   ]
  },
  {
   "cell_type": "code",
   "execution_count": 45,
   "id": "3e143a8d-0c7f-431d-8558-91cd98dd0006",
   "metadata": {},
   "outputs": [
    {
     "data": {
      "text/plain": [
       "['models/svm_model_linear.joblib']"
      ]
     },
     "execution_count": 45,
     "metadata": {},
     "output_type": "execute_result"
    }
   ],
   "source": [
    "chosen_kernel_to_save = 'linear'\n",
    "model_to_save = svm_results[chosen_kernel_to_save]['model']\n",
    "model_filename = f'models/svm_model_{chosen_kernel_to_save}.joblib'\n",
    "joblib.dump(model_to_save, model_filename)"
   ]
  },
  {
   "cell_type": "code",
   "execution_count": 43,
   "id": "6397b6a3-c23c-4fdd-acb6-9fe72736caa8",
   "metadata": {},
   "outputs": [
    {
     "data": {
      "text/plain": [
       "['models/logistic_regression_model.joblib']"
      ]
     },
     "execution_count": 43,
     "metadata": {},
     "output_type": "execute_result"
    }
   ],
   "source": [
    " model_filename_lr = 'models/logistic_regression_model.joblib'\n",
    "joblib.dump(log_reg_model, model_filename_lr)"
   ]
  },
  {
   "cell_type": "code",
   "execution_count": null,
   "id": "82d30e20-a5cf-4372-b61a-e18f8e157375",
   "metadata": {},
   "outputs": [],
   "source": []
  }
 ],
 "metadata": {
  "kernelspec": {
   "display_name": "Python 3 (ipykernel)",
   "language": "python",
   "name": "python3"
  },
  "language_info": {
   "codemirror_mode": {
    "name": "ipython",
    "version": 3
   },
   "file_extension": ".py",
   "mimetype": "text/x-python",
   "name": "python",
   "nbconvert_exporter": "python",
   "pygments_lexer": "ipython3",
   "version": "3.12.4"
  }
 },
 "nbformat": 4,
 "nbformat_minor": 5
}
